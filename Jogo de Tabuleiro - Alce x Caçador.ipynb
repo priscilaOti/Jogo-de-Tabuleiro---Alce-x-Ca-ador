{
 "cells": [
  {
   "cell_type": "code",
   "execution_count": 38,
   "metadata": {},
   "outputs": [
    {
     "name": "stdout",
     "output_type": "stream",
     "text": [
      "Caçador Venceu!\n",
      "Jogadas: 3\n"
     ]
    }
   ],
   "source": [
    "import random\n",
    "\n",
    "#Declarando as Variaveis \n",
    "alce=7\n",
    "cacador=1\n",
    "x,cont=1,1\n",
    "\n",
    "#Enquanto x for menor ou igual a 12, continua lançando o Dado\n",
    "while x<=12:\n",
    "    #Lança o Dado\n",
    "    dado = random.randint(1,6)\n",
    "    if(dado<=4):\n",
    "        alce+=dado\n",
    "        x+=alce\n",
    "        cont+=1\n",
    "    else:\n",
    "        cacador+=dado\n",
    "        x+=cacador\n",
    "        cont+=1\n",
    "\n",
    "if(cacador>=12 or cacador>=alce):\n",
    "    print('Caçador Venceu!\\nJogadas: '+str(cont))\n",
    "elif(alce>=12):\n",
    "    print('Alce Venceu!\\nJogadas: '+str(cont))\n",
    "\n"
   ]
  },
  {
   "cell_type": "code",
   "execution_count": null,
   "metadata": {},
   "outputs": [],
   "source": []
  },
  {
   "cell_type": "code",
   "execution_count": null,
   "metadata": {},
   "outputs": [],
   "source": []
  }
 ],
 "metadata": {
  "kernelspec": {
   "display_name": "Python 3",
   "language": "python",
   "name": "python3"
  },
  "language_info": {
   "codemirror_mode": {
    "name": "ipython",
    "version": 3
   },
   "file_extension": ".py",
   "mimetype": "text/x-python",
   "name": "python",
   "nbconvert_exporter": "python",
   "pygments_lexer": "ipython3",
   "version": "3.7.4"
  }
 },
 "nbformat": 4,
 "nbformat_minor": 2
}
